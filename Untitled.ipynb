{
 "cells": [
  {
   "cell_type": "code",
   "execution_count": 1,
   "id": "11c9d0c0-6912-46eb-88c1-0dd2f2494ddd",
   "metadata": {},
   "outputs": [
    {
     "name": "stdout",
     "output_type": "stream",
     "text": [
      "Collecting pytwits\n",
      "  Downloading PyTwits-1.0.1-py3-none-any.whl.metadata (1.3 kB)\n",
      "Requirement already satisfied: requests in c:\\users\\aniruddh sharma\\anaconda3\\lib\\site-packages (from pytwits) (2.32.3)\n",
      "Requirement already satisfied: charset-normalizer<4,>=2 in c:\\users\\aniruddh sharma\\anaconda3\\lib\\site-packages (from requests->pytwits) (3.3.2)\n",
      "Requirement already satisfied: idna<4,>=2.5 in c:\\users\\aniruddh sharma\\anaconda3\\lib\\site-packages (from requests->pytwits) (3.7)\n",
      "Requirement already satisfied: urllib3<3,>=1.21.1 in c:\\users\\aniruddh sharma\\anaconda3\\lib\\site-packages (from requests->pytwits) (2.2.3)\n",
      "Requirement already satisfied: certifi>=2017.4.17 in c:\\users\\aniruddh sharma\\anaconda3\\lib\\site-packages (from requests->pytwits) (2024.8.30)\n",
      "Downloading PyTwits-1.0.1-py3-none-any.whl (7.5 kB)\n",
      "Installing collected packages: pytwits\n",
      "Successfully installed pytwits-1.0.1\n",
      "Note: you may need to restart the kernel to use updated packages.\n"
     ]
    }
   ],
   "source": [
    "pip install pytwits"
   ]
  },
  {
   "cell_type": "code",
   "execution_count": 2,
   "id": "33724421-b05e-4a4a-83b7-c00b49655814",
   "metadata": {},
   "outputs": [
    {
     "ename": "ImportError",
     "evalue": "cannot import name 'Pytwits' from 'pytwits' (C:\\Users\\Aniruddh Sharma\\anaconda3\\Lib\\site-packages\\pytwits\\__init__.py)",
     "output_type": "error",
     "traceback": [
      "\u001b[1;31m---------------------------------------------------------------------------\u001b[0m",
      "\u001b[1;31mImportError\u001b[0m                               Traceback (most recent call last)",
      "Cell \u001b[1;32mIn[2], line 1\u001b[0m\n\u001b[1;32m----> 1\u001b[0m \u001b[38;5;28;01mfrom\u001b[39;00m \u001b[38;5;21;01mpytwits\u001b[39;00m \u001b[38;5;28;01mimport\u001b[39;00m Pytwits\n",
      "\u001b[1;31mImportError\u001b[0m: cannot import name 'Pytwits' from 'pytwits' (C:\\Users\\Aniruddh Sharma\\anaconda3\\Lib\\site-packages\\pytwits\\__init__.py)"
     ]
    }
   ],
   "source": [
    "from pytwits import Pytwits"
   ]
  },
  {
   "cell_type": "code",
   "execution_count": 2,
   "id": "de619a40-5486-40bb-a601-a8e796a7ebba",
   "metadata": {},
   "outputs": [
    {
     "ename": "NameError",
     "evalue": "name 'PyTwits' is not defined",
     "output_type": "error",
     "traceback": [
      "\u001b[1;31m---------------------------------------------------------------------------\u001b[0m",
      "\u001b[1;31mNameError\u001b[0m                                 Traceback (most recent call last)",
      "Cell \u001b[1;32mIn[2], line 5\u001b[0m\n\u001b[0;32m      2\u001b[0m consumer_key \u001b[38;5;241m=\u001b[39m \u001b[38;5;124m'\u001b[39m\u001b[38;5;124mYOUR_CONSUMER_KEY\u001b[39m\u001b[38;5;124m'\u001b[39m\n\u001b[0;32m      3\u001b[0m consumer_secret \u001b[38;5;241m=\u001b[39m \u001b[38;5;124m'\u001b[39m\u001b[38;5;124mYOUR_CONSUMER_SECRET\u001b[39m\u001b[38;5;124m'\u001b[39m\n\u001b[1;32m----> 5\u001b[0m twits \u001b[38;5;241m=\u001b[39m PyTwits(consumer_key, consumer_secret)\n\u001b[0;32m      6\u001b[0m messages \u001b[38;5;241m=\u001b[39m twits\u001b[38;5;241m.\u001b[39mstreams(path\u001b[38;5;241m=\u001b[39m\u001b[38;5;124m'\u001b[39m\u001b[38;5;124msymbol\u001b[39m\u001b[38;5;124m'\u001b[39m, \u001b[38;5;28mid\u001b[39m\u001b[38;5;241m=\u001b[39m\u001b[38;5;124m'\u001b[39m\u001b[38;5;124mAAPL\u001b[39m\u001b[38;5;124m'\u001b[39m)\n",
      "\u001b[1;31mNameError\u001b[0m: name 'PyTwits' is not defined"
     ]
    }
   ],
   "source": [
    "\n",
    "\n",
    "# Replace with your actual StockTwits API keys\n",
    "consumer_key = 'YOUR_CONSUMER_KEY'\n",
    "consumer_secret = 'YOUR_CONSUMER_SECRET'\n",
    "\n",
    "twits = PyTwits(consumer_key, consumer_secret)\n",
    "messages = twits.streams(path='symbol', id='AAPL')\n"
   ]
  },
  {
   "cell_type": "code",
   "execution_count": null,
   "id": "1f61d226-3478-4ac1-aaef-1746b6559fd9",
   "metadata": {},
   "outputs": [],
   "source": []
  }
 ],
 "metadata": {
  "kernelspec": {
   "display_name": "Python 3 (ipykernel)",
   "language": "python",
   "name": "python3"
  },
  "language_info": {
   "codemirror_mode": {
    "name": "ipython",
    "version": 3
   },
   "file_extension": ".py",
   "mimetype": "text/x-python",
   "name": "python",
   "nbconvert_exporter": "python",
   "pygments_lexer": "ipython3",
   "version": "3.12.7"
  }
 },
 "nbformat": 4,
 "nbformat_minor": 5
}
